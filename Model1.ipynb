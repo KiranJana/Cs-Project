{
  "nbformat": 4,
  "nbformat_minor": 0,
  "metadata": {
    "colab": {
      "provenance": []
    },
    "kernelspec": {
      "name": "python3",
      "display_name": "Python 3"
    },
    "language_info": {
      "name": "python"
    }
  },
  "cells": [
    {
      "cell_type": "code",
      "source": [
        "import nltk\n",
        "from nltk import sent_tokenize # this helps to split text into Sentences\n",
        "from nltk import word_tokenize # this helps to split text into individual Words\n",
        "from nltk.corpus import stopwords\n",
        "from nltk.stem import WordNetLemmatizer\n",
        "from sklearn.feature_extraction.text import TfidfVectorizer\n",
        "from sklearn.metrics.pairwise import cosine_similarity\n",
        "nltk.download('punkt')\n",
        "nltk.download('stopwords')\n",
        "nltk.download('wordnet')\n"
      ],
      "metadata": {
        "colab": {
          "base_uri": "https://localhost:8080/"
        },
        "id": "cS0bX4Zqbk2h",
        "outputId": "32b7f3d4-8965-4d39-84da-7f0332749bdb"
      },
      "execution_count": null,
      "outputs": [
        {
          "output_type": "stream",
          "name": "stderr",
          "text": [
            "[nltk_data] Downloading package punkt to /root/nltk_data...\n",
            "[nltk_data]   Unzipping tokenizers/punkt.zip.\n",
            "[nltk_data] Downloading package stopwords to /root/nltk_data...\n",
            "[nltk_data]   Unzipping corpora/stopwords.zip.\n",
            "[nltk_data] Downloading package wordnet to /root/nltk_data...\n"
          ]
        },
        {
          "output_type": "execute_result",
          "data": {
            "text/plain": [
              "True"
            ]
          },
          "metadata": {},
          "execution_count": 7
        }
      ]
    },
    {
      "cell_type": "code",
      "execution_count": null,
      "metadata": {
        "id": "3QzcNGzqP7aC"
      },
      "outputs": [],
      "source": [
        "import re\n",
        "\n",
        "#def remove_spaces(text):\n",
        "  #text = re.sub(r'\\s+', ' ', text)\n",
        "  #return text.strip()\n",
        "\n",
        "def clean_text(text):\n",
        "    # Remove email addresses\n",
        "    text = re.sub(r'\\S+@\\S+', '', text)\n",
        "\n",
        "    # convert to lowercase\n",
        "    #text = text.lower()\n",
        "    \n",
        "    # remove non-alphanumeric characters\n",
        "    #text = re.sub(r'[^a-zA-Z0-9\\s]', ' ', text)\n",
        "    \n",
        "    # Remove phone numbers\n",
        "    text = re.sub(r'\\d{3}[-\\.\\s]??\\d{3}[-\\.\\s]??\\d{4}', '', text)\n",
        "    \n",
        "    # .*(?:\\n|$)\n",
        "    # Remove specific strings\n",
        "    text = re.sub(r'Candidate Id:.*|Job Posting Id:.*|Candidate Name:.*(?:\\n|$)|&amp|Summary:|Tags:|Skills:.*|Work History:|#|Title:.*(?:\\n|$)|Company:.*(?:\\n|$)|Description:|From Date:|To Date:|Education History:*(?:\\n|$)|School Name:*(?:\\n|$)|Degree:*(?:\\n|$)|\\*', '', text)\n",
        "    \n",
        "    # Remove dates\n",
        "    text = re.sub(r'\\b\\d{1,2}[/-]\\d{1,2}[/-]\\d{2,4}\\b', '', text)\n",
        "    \n",
        "    # Remove 'None'\n",
        "    text = re.sub(r'None', '', text)\n",
        "\n",
        "    # Remove \\n\n",
        "    #text = re.sub(r'\\n', '', text)\n",
        "    #text = re.sub(r'\\'', '', text)\n",
        "    \n",
        "    # Remove strings with pattern \"four digits - two digits - two digits\"\n",
        "    text = re.sub(r'\\d{4}-\\d{2}-\\d{2}', '', text)\n",
        "    \n",
        "    # Remove extra white spaces\n",
        "    # text = re.sub(r'\\s+', ' ', text)\n",
        "\n",
        "    \n",
        "    # Replace periods and commas with new lines, except when an Oxford comma is being used\n",
        "    # text = re.sub(r'(\\.|\\;|\\,)', r'\\1\\n', text)\n",
        "    # text = re.sub(r'(?<=[^\\s,]), (?=[^\\s,\\d])', ',\\n', text)\n",
        "    \n",
        "\n",
        "    return text.strip()\n",
        "\n",
        "with open('FC_Mike.txt', 'r') as f:\n",
        "    resume = f.read()\n",
        "\n",
        "with open('FC.txt', 'r') as f:\n",
        "    jd = f.read()\n",
        "\n",
        "# Example usage:\n",
        "cleaned_resume = clean_text(resume)\n",
        "cleaned_JD = clean_text(jd)\n",
        "print(cleaned_resume)"
      ]
    },
    {
      "cell_type": "code",
      "source": [
        "import re\n",
        "\n",
        "def clean_skills(skill_section):\n",
        "    # Find string starting with \"Skills:\" and ending with a newline\n",
        "    match = re.search(r'Skills:.*\\n', skill_section)\n",
        "    if match:\n",
        "        # Get the matched string and remove leading/trailing whitespaces\n",
        "        skill_section = match.group(0).strip()\n",
        "    else:\n",
        "        # Return an empty string if no match is found\n",
        "        skill_section = \"\"\n",
        "\n",
        "    skill_section = re.sub(r'Skills:', '', skill_section)\n",
        "\n",
        "    skill_section = re.sub(r'(\\.|\\;|\\,)', r'\\1\\n', skill_section)\n",
        "    skill_section = re.sub(r',', '.', skill_section)\n",
        "\n",
        "\n",
        "    \n",
        "    return skill_section\n",
        "\n",
        "cleaned_skills = clean_skills(resume)\n",
        "\n",
        "print(cleaned_skills)\n"
      ],
      "metadata": {
        "id": "WC-ssZpQIJhX"
      },
      "execution_count": null,
      "outputs": []
    },
    {
      "cell_type": "code",
      "source": [
        "def get_similar_phrases(job_desc_file, resume_file, n=5):\n",
        "    # get sentences from job description\n",
        "    job_desc_sentences =  nltk.sent_tokenize(job_desc_file)\n",
        "\n",
        "    # get tf-idf vector representation of job description sentences and resume\n",
        "    vectorizer = TfidfVectorizer()\n",
        "    tfidf_job_desc = vectorizer.fit_transform(job_desc_sentences)\n",
        "    tfidf_resume = vectorizer.transform([resume_file])\n",
        "\n",
        "    # get similar phrases between job description and resume\n",
        "    similar_phrases = []\n",
        "    for i in range(len(job_desc_sentences)):\n",
        "        sentence = job_desc_sentences[i]\n",
        "        score = (tfidf_resume * tfidf_job_desc[i].T).toarray()[0][0]\n",
        "        if score > 0:\n",
        "            similar_phrases.append((sentence, score))\n",
        "\n",
        "    # sort the similar phrases in descending order of score\n",
        "    similar_phrases = sorted(similar_phrases, key=lambda x: x[1], reverse=True)\n",
        "\n",
        "    # return the top n similar phrases\n",
        "    return similar_phrases[:n]\n",
        "\n",
        "\n",
        "if __name__ == '__main__':\n",
        "    with open('FC_Mike.txt', 'r') as f:\n",
        "        resume = f.read()\n",
        "\n",
        "    with open('FC.txt', 'r') as f:\n",
        "        jd = f.read()\n",
        "\n",
        "    skills_file = clean_skills(resume)\n",
        "\n",
        "    resume_file = clean_text(resume)\n",
        "    job_desc_file = clean_text(jd)\n",
        "\n",
        "    similar_skills = get_similar_phrases(skills_file, job_desc_file, n=5)\n",
        "    similar_phrases  = get_similar_phrases(resume_file, job_desc_file, n=5)\n",
        "    similar_output = similar_skills + similar_phrases\n",
        "\n",
        "    similar_output = sorted(similar_output, key=lambda x: x[1], reverse =True)\n",
        "\n",
        "    print('Top similar phrases in the resume:')\n",
        "    #for i, (phrase, score) in enumerate(similar_skills):\n",
        "     #   print(f'* {phrase} (score: {score:.2f})')\n",
        "\n",
        "    for i, (phrase, score) in enumerate(similar_output):\n",
        "        print(f'* {phrase} (score: {score:.2f})')\n",
        "        \n",
        "  # print(f'{i+1}. {phrase} (score: {score:.2f})')\n"
      ],
      "metadata": {
        "colab": {
          "base_uri": "https://localhost:8080/"
        },
        "id": "0f98TRGsKXn7",
        "outputId": "f4dcd6f2-a2bf-4f97-8ebf-f342977a04a8"
      },
      "execution_count": 46,
      "outputs": [
        {
          "output_type": "stream",
          "name": "stdout",
          "text": [
            "Top similar phrases in the resume:\n",
            "* Financial Reporting. (score: 0.59)\n",
            "* Accounting. (score: 0.55)\n",
            "* Financial Statements. (score: 0.47)\n",
            "* Responsible for oversight of all accounting functions including accounts receivable, accounts payable, insurance and risk management, and audit. (score: 0.28)\n",
            "* Responsible for accurate reporting of financial statements. (score: 0.25)\n",
            "* Achieved savings of $185,000 by working with various members of management. (score: 0.22)\n",
            "* Managed the implementation of a purchase card system that reduced the number of invoices processed by AP by over 10%. (score: 0.21)\n",
            "* JOB Cost. (score: 0.21)\n",
            "* Project team leader for Company wide cost savings model including oversight of software implementation, financial reporting, treasury functions and hourly wage analysis. (score: 0.21)\n",
            "* Construction Management. (score: 0.20)\n"
          ]
        }
      ]
    }
  ]
}